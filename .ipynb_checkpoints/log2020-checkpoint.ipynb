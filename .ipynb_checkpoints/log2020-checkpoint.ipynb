{
 "cells": [
  {
   "cell_type": "markdown",
   "metadata": {},
   "source": [
    "# Work Journal 2020"
   ]
  },
  {
   "cell_type": "markdown",
   "metadata": {},
   "source": [
    "## Thurday, October 15\n",
    "Learned how to push from terminal to Github:<br>\n",
    "&emsp;  git add .<br>\n",
    "&emsp;    git commit -m \"Enter commit message here\"<br>\n",
    "&emsp;    git push -u origin master<br>\n",
    "And then files/changes will automatically appear in github, no need to pull once there. \n",
    "An extra hidden folder did appear when i did this though (.ipynb_checkpoints) ask Doug about this.<br>\n",
    "\n",
    "Wrote 471 midterm and sent concerns to Rich about the delivery of remote examinations.<br>\n",
    "\n",
    "MSSA analysis in 510 - learned to code MSSA for more than two datasets.\n"
   ]
  },
  {
   "cell_type": "markdown",
   "metadata": {},
   "source": [
    "## Friday, October 16\n",
    "Plotting party with Ben, Rachael, and Elise. \n",
    "<br>1) Learned how to download files from ocean onto home computer. ex:<br>\n",
    "&emsp; rsync -auvrp --progress rbeutel@chum.eoas.ubc.ca:/home/rmueller/data/MIDOSS/PythonPlay/Oct1620 ./ <br>\n",
    "Where the \"rbeutel..\" part refers to the folder i want to get things from and \"./\" refers to the directory i'm already in. \n",
    "<br>2) Learned to comment in and out whole sections: \"command\" + \"/\" \n",
    "<br>3) Got tips from Elise on how to set consistent foramting for graphics right at the begining of code:<br>\n",
    "&emsp;import matplotlib as mpl<br>&emsp;mpl.rc('xtick', labelsize=8)<br>&emsp;mpl.rc('ytick', labelsize=8)<br>&emsp;mpl.rc('legend', fontsize=8)<br>&emsp;mpl.rc('axes', titlesize=8)<br>&emsp;mpl.rc('axes', labelsize=8)<br>&emsp;mpl.rc('figure', titlesize=8)<br>&emsp;mpl.rc('font', size=8)<br>&emsp;mpl.rc('text', usetex=True)<br>&emsp;mpl.rc('text.latex', preamble = r'''<br>&emsp; \\usepackage{txfonts}<br>&emsp; \\usepackage{lmodern}<br>&emsp; ''')<br>&emsp;mpl.rc('font', family='sans-serif', weight='normal', style='normal')<br>\n",
    "So, using this, I won't need to specify these parameters every time i make a graphic because they are set already!<br>\n",
    "\n",
    "Began ENVR 512 assignment 2 (finished 1? started 2) scheduled meeting with Damien to go over assignment together this weekend.<br>"
   ]
  },
  {
   "cell_type": "markdown",
   "metadata": {},
   "source": [
    "## Saturday, October 17\n",
    "Wrote summary on \"Vulnerability of a semienclosed estuarine sea to ocean acidification in contrast with hypoxia\" (Debby Lanson, 2016). <br>\n",
    "\n",
    "Read and noted questions on \"Microzooplankton in the Surface Waters of the Strait of Juan de Fuca\" (NOAA, 1978)"
   ]
  },
  {
   "cell_type": "markdown",
   "metadata": {},
   "source": [
    "## Sunday,October 18\n",
    "Worked on 512 Assignment 2 and video called with Damien to ask questions. \n",
    "Learned how to work with the material derivative."
   ]
  },
  {
   "cell_type": "markdown",
   "metadata": {},
   "source": [
    "## Monday, October 19\n",
    "Worked on 512 assignment (85% done now)."
   ]
  },
  {
   "cell_type": "markdown",
   "metadata": {},
   "source": [
    "## Tuesday, October 20\n",
    "Completed and handed in 512 assignment 2. Found good resource for PDE solving: http://ramanujan.math.trinity.edu/rdaileda/teach/s14/m3357/lectures/lecture_1_21_slides.pdf<br>\n",
    "Attended CGS-M proposal writing workshop. Good idea to schedule meeting with someone in writing resources centre once your first draft is done. <br>"
   ]
  },
  {
   "cell_type": "markdown",
   "metadata": {},
   "source": [
    "## Wednesday, October 21\n",
    "Submitted topic and data sources for EOSC 510 large data analysis project. Specifically asked for feedback on an appropriate timescale for the project - the methods of the project can be used for analysis of a longer dataset in the future BUT for now I probably don't have the computing power on my laptop to do this effectively. <br>\n",
    "\n",
    "Gradded the annotated bibliographies of my three assigned teams in ENVR 400 (2 students yet to hand in). <br>\n",
    "\n",
    "Learned about various clustering methods for data analysis."
   ]
  },
  {
   "cell_type": "markdown",
   "metadata": {},
   "source": [
    "## Thursday, October 22\n",
    "Attended webinar by Dorthe Dahl Jensen on ice cores as part of the EGRIP project. Although this was not the main topic of the talk I found the portion about how they constructed the research areas out of 5m in diameter balloons (similar in construction to those used for large scale beer brewing) extremely interesting. <br>\n",
    "\n",
    "Learned about (in EOSC 510 online recorded lecture) and how to code (later in lab) hierarchical clustering for data analysis. <br>\n",
    "\n",
    "Modelled internal waves in EOSC 417. <br>\n",
    "\n",
    "Introduced to Kelvin waves and wave behaviour along a channel (can be applied to flow down JDF) in EOSC 512. Began midterm notes for 512. \n"
   ]
  },
  {
   "cell_type": "markdown",
   "metadata": {},
   "source": [
    "## Friday, October 23\n",
    "Finished 512 notes up to end of rotational flow section - should be able to start and finish waves tomorrow. <br>\n",
    "\n",
    "Meeting with Susan where we discussed some other options for my project. <br>&emsp;1) using wave tracer data collected from St. Lawrence check/improve upon NEMO algorithms now that we have more data. <br>&emsp;2) Working with connection of Susan's at ECCC (JP - worked originally in MEOPAR, worked on NEP 3.6 model, and now works in ECCC science) on Ekman tranport of surface particles in Riop (which is one step up from NEP 3.6). This would potentially involve a coop at ECCC. <br>\n",
    "\n",
    "In meeting I also got my answer as to why most moluscs reside bellow the aragonite saturation depth even though water undersaturated in aragonite can be deperamental to their health (from the Debby Ianson 2016 paper). This is because most animals actually for their shells using calcite, which has a much lower saturation depth. We think that when yound, animals start with using aragonite and switch to catcite later in their development. At low calcite/aragonite the animals can still form shells BUT need to continuously work on forming their shells while their shells keep dissolving. <br>\n",
    "\n",
    "Meeting with undergraduate biology student (Sarah Luo) who is considering switching to Environmental Engineering about the different streams and job opportunities in that field. <br>\n",
    "\n",
    "Completed marking of ENVR 400 annotated bibliographies. "
   ]
  },
  {
   "cell_type": "markdown",
   "metadata": {},
   "source": [
    "## Saturday, October 24\n",
    "Watched EOAS 510 videos on Self organizing maps (SOM) and perceptrons. Began completing quiz 7, will wait for the Tuesday lecture to finish it as I don't have a great grasp on perceptrons from teh videos alone. "
   ]
  },
  {
   "cell_type": "markdown",
   "metadata": {},
   "source": [
    "## Sunday, October 25\n",
    "Finished EOSC 512 midterm notes. <br>\n",
    "\n",
    "Completed the code portion of assignment 3 for EOSC 510 up to the final question on SOM for which we will have a lab for on Thursday. "
   ]
  },
  {
   "cell_type": "markdown",
   "metadata": {},
   "source": [
    "## Monday, October 26\n",
    "Rewatched and added notes on all EOSC 512 lectures that I was feeling fuzzy about (vorticity, quasi-geostrophic flow, and shallow water equations). Watched National Committee for Fluids Mechanics Films on vorticity {the experiment with the x-shaped floaty spinning as it travelled next to a wall due to the speed gradient was particularly informative}, eularian versus langrangian analysis, and rotating flows. The comaparison of eularian and langrangian was beneficial for my understanding of the meaning of the material derivative - the rate of change wrt time seen by the material (moving langrangian) point as it passes the laboratory (stationary eularian) point expressed in eularian coordinates, see demonstration at 15:06 in https://www.youtube.com/watch?v=mdN8OOkx2ko&list=PL0EC6527BE871ABA3%22.<br>\n",
    "\n",
    "Began writeup for EOSC 510 assignment 3. The results for part 1 x1 and x2 look suspiciously similar - look at this section of code and make sure you didn't overwrite either dataset with the other at some point. <br>\n",
    "\n",
    "Attended the PO seminar in which Sam Stevens spoke about the differences between Eulerian, Lagrangian, and tracer-based estimates in the SoG for his intermediate circulation estimates. This was extremely helpful for my understanding of the benefits and shortcomings of Langrangian tracking in physical oceanography - I may ask him for his slides for reference, or as least try to find if he has published a paper with a more detailed explanation of their differences. <br>\n",
    "\n",
    "Will be taking over Michael's annotated bibliography marking load for ENVR 400. "
   ]
  },
  {
   "cell_type": "markdown",
   "metadata": {},
   "source": [
    "## Tuesday, October 27\n",
    "Fixed bug in EOSC 510 assignment 3! Introduced to self organizing maps (SOM) in lecture - maps data with many dimensions into 2D by nonlinearly projecting the data into neural network nodes on a 'map'.<br>\n",
    "\n",
    "Redid all in-class worksheets as well as all more theoretical questions from assignments in preparation for EOSC 512 midterm. <br>\n",
    "\n",
    "Very productive zoom with Susan about my project topic. I confirmed that I am most interested in Lagrangian tracking of waters in the JDF and Susan gave options on how to mix this with my interest in studying biologically relevant factors. Could do small changes to quantitative lagrangian analysis using ariane (within salishseacast?) to track biological factors (instead of tmeprature and salinity) at set transects in the JDF. Transect either within JDF to see flow there or at entrance to the Pacific to see exchange with ocean (or both?). Very exciting! <br>\n",
    "Sam Stevens is in the process of writing a paper on what he presented on yesterday, Susan suggests emailing him (cc Rich) to see if I can get access to it in its current form."
   ]
  },
  {
   "cell_type": "markdown",
   "metadata": {},
   "source": [
    "## Wednesday, October 28\n",
    "Wrote EOSC 512 midterm. Didn't feel amazingly about the individual potion of the midterm but actually learned a lot from the group part. For example eta and the derivatives of it (unless stated otherwise like in the assignment) can be calculated using one general wave equation -> eta = eta(0) * exp[ikx - i(phi)t]. I also learned that Rich is a very generous test marker! <br>\n",
    "\n",
    "Completed all but two ENVR 400 annotated bibliographies from Micheal's teams (one has not been handed it in and one was in a very different format so i requested more info about the project from Michael). <br>\n",
    "\n",
    "Wrote proposal for EOCS 510 project and looked more into data that I will be working with. I am not sure how to work with/read these specific data formats (.nc and .grib2) so messaged Doug about meeting to talk about that - we will be videochatting at 1:00 on Friday. After my meeting with Doug I should schedule a meeting with Valentina to talk over my analysis methods now that I have confirmed that I care about wind downscalling in a general sense, not just extreme events. <br>"
   ]
  },
  {
   "cell_type": "markdown",
   "metadata": {},
   "source": [
    "## Thursday, October 29\n",
    "Lots of class today! Learned how to code SOMs and applied that to finshing EOCS 510 assignment 3 (handed in). Began working on EOSC 471 mini-project 2 in lab, where we learned about more about the simplified box model for ocean overturning circulation. Big takeaway right now it that for the same forcing there can be three possible flow regimes! Wowee. In EOSC 510 we learned about the unique behaviour of Rosby waves!"
   ]
  },
  {
   "cell_type": "markdown",
   "metadata": {},
   "source": [
    "## Friday, October 30\n",
    "Began the day with a more formal start to the NSERC application. Requested my official transcripts from UoG and started up my Canadian Common CV. I inquired with Alicia about getting my official transcripts with UBC and she will handle that portion closer to the due date. <br>\n",
    "\n",
    "Meeting with Susan where we mostly spoke about my data analysis project. She informed me not to use the HRDPS data from before 2014. Based on this I will be using just the climate model output and HRDPS from the past five years. Also given the advice to start with just a couple months of data as a proof of concept. Mentionned that I should ask Valentina if wind or sea level pressure would be a better variable to start with. <br>\n",
    "\n",
    "Meeting with Doug about actually working with the HRDPS and climate model. He gave the advice to work with xarray for this type of data! Using xarray it should be reasonably simple to cut the datasets down to a usable size (based on time, space, and the variable to be analysed) before trying to do any analysis. Doug also urged me to make a repository and an environment specifically for EOSC510 - sent me code and resources in Slack to work on this. <br>\n",
    "\n",
    "Unrelated to the project but also talked about with Doug was: <br>\n",
    "&emsp;a) Why an extra folder called ipynb_checkpoints was pushed to github when i pushed this logbook file - this is because a metadata folder/file is made automatically when i push tp git. I can make a seperate file explaining what to ignore when i push to git. Doug has sent me a resource on how to do this. <br>\n",
    "&emsp;b) Why it doesn't look like code if i open an ipynd file that i make in jupyter in spyder - jupyter doesn't actauly make python files they make json files with tones of metadata. Some coding softwares will notice this and change it to python code automatically. Check if there is a way to get spider to do this. <br>\n",
    "\n",
    "Met up with Damien to work on assignment 3 - we got about half way and are going to zoom on Sunday evenning to try to get the rest. It was really helpful to work with another human!"
   ]
  },
  {
   "cell_type": "markdown",
   "metadata": {},
   "source": [
    "## Sunday, November 1\n",
    "I found a very good video on youtube to help me better visualise Lagrangian/Stokes drift (relevant to question 1 of assignment 3 in EOSC 512): https://www.youtube.com/watch?v=iPSC4Zt4l50 This allowed me to finish the discussion portion of the Lagrangian drift question. About 80% of the questions for this assignment are now done, Damien and I will ask questions to Rich in class tomorrow and then meet over zoom after class to finish up. <br>\n",
    "\n",
    "Sent emails to Jorg and Jana requesting that they be my references for CGS-M. Began writing my proposal and noted that I need more concrete sources for background information on Lagrangian tracking efficacy and for which biologically relevant factors I will be evaluating. Can I reference a paper that I have access to but has not yet been published? <br>\n",
    "\n",
    "Marked all of the currently handed in reflection 2's for ENVR 400. "
   ]
  },
  {
   "cell_type": "markdown",
   "metadata": {},
   "source": [
    "## Monday, November 2\n",
    "Jorg confirmed that he would be happy to be my reference again! <br>\n",
    "\n",
    "Started the day summarising zooplankton paper I read a while back by looking more into the papers sent to me by Sam Stevens about Lagrangian tracking. "
   ]
  }
 ],
 "metadata": {
  "kernelspec": {
   "display_name": "Python 3",
   "language": "python",
   "name": "python3"
  },
  "language_info": {
   "codemirror_mode": {
    "name": "ipython",
    "version": 3
   },
   "file_extension": ".py",
   "mimetype": "text/x-python",
   "name": "python",
   "nbconvert_exporter": "python",
   "pygments_lexer": "ipython3",
   "version": "3.7.6"
  }
 },
 "nbformat": 4,
 "nbformat_minor": 4
}
