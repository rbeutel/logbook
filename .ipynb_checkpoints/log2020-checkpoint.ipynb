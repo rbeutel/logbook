{
 "cells": [
  {
   "cell_type": "markdown",
   "metadata": {},
   "source": [
    "# Work Journal 2020"
   ]
  },
  {
   "cell_type": "markdown",
   "metadata": {},
   "source": [
    "## Thurday, October 15\n",
    "Learned how to push from terminal to Github:<br>\n",
    "&emsp;  git add .<br>\n",
    "&emsp;    git commit -m \"Enter commit message here\"<br>\n",
    "&emsp;    git push -u origin master<br>\n",
    "And then files/changes will automatically appear in github, no need to pull once there. \n",
    "An extra hidden folder did appear when i did this though (.ipynb_checkpoints) ask Doug about this.<br>\n",
    "\n",
    "Wrote 471 midterm and sent concerns to Rich about the delivery of remote examinations.<br>\n",
    "\n",
    "MSSA analysis in 510 - learned to code MSSA for more than two datasets.\n"
   ]
  },
  {
   "cell_type": "markdown",
   "metadata": {},
   "source": [
    "## Friday, October 16\n",
    "Plotting party with Ben, Rachael, and Elise. \n",
    "<br>1) Learned how to download files from ocean onto home computer. ex:<br>\n",
    "&emsp; rsync -auvrp --progress rbeutel@chum.eoas.ubc.ca:/home/rmueller/data/MIDOSS/PythonPlay/Oct1620 ./ <br>\n",
    "Where the \"rbeutel..\" part refers to the folder i want to get things from and \"./\" refers to the directory i'm already in. \n",
    "<br>2) Learned to comment in and out whole sections: \"command\" + \"/\" \n",
    "<br>3) Got tips from Elise on how to set consistent foramting for graphics right at the begining of code:<br>\n",
    "&emsp;import matplotlib as mpl<br>&emsp;mpl.rc('xtick', labelsize=8)<br>&emsp;mpl.rc('ytick', labelsize=8)<br>&emsp;mpl.rc('legend', fontsize=8)<br>&emsp;mpl.rc('axes', titlesize=8)<br>&emsp;mpl.rc('axes', labelsize=8)<br>&emsp;mpl.rc('figure', titlesize=8)<br>&emsp;mpl.rc('font', size=8)<br>&emsp;mpl.rc('text', usetex=True)<br>&emsp;mpl.rc('text.latex', preamble = r'''<br>&emsp; \\usepackage{txfonts}<br>&emsp; \\usepackage{lmodern}<br>&emsp; ''')<br>&emsp;mpl.rc('font', family='sans-serif', weight='normal', style='normal')<br>\n",
    "So, using this, I won't need to specify these parameters every time i make a graphic because they are set already!<br>\n",
    "\n",
    "Began ENVR 512 assignment 2 (finished 1? started 2) scheduled meeting with Damien to go over assignment together this weekend.<br>"
   ]
  },
  {
   "cell_type": "markdown",
   "metadata": {},
   "source": [
    "## Saturday, October 17\n",
    "Wrote summary on \"Vulnerability of a semienclosed estuarine sea to ocean acidification in contrast with hypoxia\" (Debby Lanson, 2016). <br>\n",
    "\n",
    "Read and noted questions on \"Microzooplankton in the Surface Waters of the Strait of Juan de Fuca\" (NOAA, 1978)"
   ]
  },
  {
   "cell_type": "markdown",
   "metadata": {},
   "source": [
    "## Sunday,October 18\n",
    "Worked on 512 Assignment 2 and video called with Damien to ask questions. \n",
    "Learned how to work with the material derivative."
   ]
  },
  {
   "cell_type": "markdown",
   "metadata": {},
   "source": [
    "## Monday, October 19\n",
    "Worked on 512 assignment (85% done now)."
   ]
  },
  {
   "cell_type": "markdown",
   "metadata": {},
   "source": [
    "## Tuesday, October 20\n",
    "Completed and handed in 512 assignment 2. Found good resource for PDE solving: http://ramanujan.math.trinity.edu/rdaileda/teach/s14/m3357/lectures/lecture_1_21_slides.pdf<br>\n",
    "Attended CGS-M proposal writing workshop. Good idea to schedule meeting with someone in writing resources centre once your first draft is done. <br>"
   ]
  },
  {
   "cell_type": "markdown",
   "metadata": {},
   "source": [
    "## Wednesday, October 21\n",
    "Submitted topic and data sources for EOSC 510 large data analysis project. Specifically asked for feedback on an appropriate timescale for the project - the methods of the project can be used for analysis of a longer dataset in the future BUT for now I probably don't have the computing power on my laptop to do this effectively. <br>\n",
    "\n",
    "Gradded the annotated bibliographies of my three assigned teams in ENVR 400 (2 students yet to hand in). <br>\n",
    "\n",
    "Learned about various clustering methods for data analysis."
   ]
  },
  {
   "cell_type": "markdown",
   "metadata": {},
   "source": [
    "## Thursday, October 22\n",
    "Attended webinar by Dorthe Dahl Jensen on ice cores as part of the EGRIP project. Although this was not the main topic of the talk I found the portion about how they constructed the research areas out of 5m in diameter balloons (similar in construction to those used for large scale beer brewing) extremely interesting. <br>\n",
    "\n",
    "Learned about (in EOSC 510 online recorded lecture) and how to code (later in lab) hierarchical clustering for data analysis. <br>\n",
    "\n",
    "Modelled internal waves in EOSC 417. <br>\n",
    "\n",
    "Introduced to Kelvin waves and wave behaviour along a channel (can be applied to flow down JDF) in EOSC 512. Began midterm notes for 512. \n"
   ]
  },
  {
   "cell_type": "markdown",
   "metadata": {},
   "source": [
    "## Friday, October 23\n",
    "Finished 512 notes up to end of rotational flow section - should be able to start and finish waves tomorrow. <br>\n",
    "\n",
    "Meeting with Susan where we discussed some other options for my project. <br>&emsp;1) using wave tracer data collected from St. Lawrence check/improve upon NEMO algorithms now that we have more data. <br>&emsp;2) Working with connection of Susan's at ECCC (JP - worked originally in MEOPAR, worked on NEP 3.6 model, and now works in ECCC science) on Ekman tranport of surface particles in Riop (which is one step up from NEP 3.6). This would potentially involve a coop at ECCC. <br>\n",
    "\n",
    "In meeting I also got my answer as to why most moluscs reside bellow the aragonite saturation depth even though water undersaturated in aragonite can be deperamental to their health (from the Debby Ianson 2016 paper). This is because most animals actually for their shells using calcite, which has a much lower saturation depth. We think that when yound, animals start with using aragonite and switch to catcite later in their development. At low calcite/aragonite the animals can still form shells BUT need to continuously work on forming their shells while their shells keep dissolving. <br>\n",
    "\n",
    "Meeting with undergraduate biology student (Sarah Luo) who is considering switching to Environmental Engineering about the different streams and job opportunities in that field. <br>\n",
    "\n",
    "Completed marking of ENVR 400 annotated bibliographies. "
   ]
  },
  {
   "cell_type": "markdown",
   "metadata": {},
   "source": [
    "## Saturday, October 24\n",
    "Watched EOAS 510 videos on Self organizing maps (SOM) and perceptrons. Began completing quiz 7, will wait for the Tuesday lecture to finish it as I don't have a great grasp on perceptrons from teh videos alone. "
   ]
  },
  {
   "cell_type": "markdown",
   "metadata": {},
   "source": [
    "## Sunday, October 25\n",
    "Finished EOSC 512 midterm notes. <br>\n",
    "\n",
    "Completed the code portion of assignment 3 for EOSC 510 up to the final question on SOM for which we will have a lab for on Thursday. "
   ]
  },
  {
   "cell_type": "markdown",
   "metadata": {},
   "source": [
    "## Monday, October 26\n",
    "Rewatched and added notes on all EOSC 512 lectures that I was feeling fuzzy about (vorticity, quasi-geostrophic flow, and shallow water equations). Watched National Committee for Fluids Mechanics Films on vorticity {the experiment with the x-shaped floaty spinning as it travelled next to a wall due to the speed gradient was particularly informative}, eularian versus langrangian analysis, and rotating flows. The comaparison of eularian and langrangian was beneficial for my understanding of the meaning of the material derivative - the rate of change wrt time seen by the material (moving langrangian) point as it passes the laboratory (stationary eularian) point expressed in eularian coordinates, see demonstration at 15:06 in https://www.youtube.com/watch?v=mdN8OOkx2ko&list=PL0EC6527BE871ABA3%22.<br>\n",
    "\n",
    "Began writeup for EOSC 510 assignment 3. The results for part 1 x1 and x2 look suspiciously similar - look at this section of code and make sure you didn't overwrite either dataset with the other at some point. <br>\n",
    "\n",
    "Attended the PO seminar in which Sam Stevens spoke about the differences between Eulerian, Lagrangian, and tracer-based estimates in the SoG for his intermediate circulation estimates. This was extremely helpful for my understanding of the benefits and shortcomings of Langrangian tracking in physical oceanography - I may ask him for his slides for reference, or as least try to find if he has published a paper with a more detailed explanation of their differences. <br>\n",
    "\n",
    "Will be taking over Michael's annotated bibliography marking load for ENVR 400. "
   ]
  },
  {
   "cell_type": "markdown",
   "metadata": {},
   "source": [
    "## Tuesday, October 27\n",
    "Fixed bug in EOSC 510 assignment 3! Introduced to self organizing maps (SOM) in lecture - maps data with many dimensions into 2D by nonlinearly projecting the data into neural network nodes on a 'map'.<br>\n",
    "\n",
    "Redid all in-class worksheets as well as all more theoretical questions from assignments in preparation for EOSC 512 midterm. <br>\n",
    "\n",
    "Very productive zoom with Susan about my project topic. I confirmed that I am most interested in Lagrangian tracking of waters in the JDF and Susan gave options on how to mix this with my interest in studying biologically relevant factors. Could do small changes to quantitative lagrangian analysis using ariane (within salishseacast?) to track biological factors (instead of tmeprature and salinity) at set transects in the JDF. Transect either within JDF to see flow there or at entrance to the Pacific to see exchange with ocean (or both?). Very exciting! <br>\n",
    "Sam Stevens is in the process of writing a paper on what he presented on yesterday, Susan suggests emailing him (cc Rich) to see if I can get access to it in its current form."
   ]
  },
  {
   "cell_type": "markdown",
   "metadata": {},
   "source": [
    "## Wednesday, October 28\n",
    "Wrote EOSC 512 midterm. Didn't feel amazingly about the individual potion of the midterm but actually learned a lot from the group part. For example eta and the derivatives of it (unless stated otherwise like in the assignment) can be calculated using one general wave equation -> eta = eta(0) * exp[ikx - i(phi)t]. I also learned that Rich is a very generous test marker! <br>\n",
    "\n",
    "Completed all but two ENVR 400 annotated bibliographies from Micheal's teams (one has not been handed it in and one was in a very different format so i requested more info about the project from Michael). <br>\n",
    "\n",
    "Wrote proposal for EOCS 510 project and looked more into data that I will be working with. I am not sure how to work with/read these specific data formats (.nc and .grib2) so messaged Doug about meeting to talk about that - we will be videochatting at 1:00 on Friday. After my meeting with Doug I should schedule a meeting with Valentina to talk over my analysis methods now that I have confirmed that I care about wind downscalling in a general sense, not just extreme events. <br>"
   ]
  },
  {
   "cell_type": "markdown",
   "metadata": {},
   "source": [
    "## Thursday, October 29\n",
    "Lots of class today! Learned how to code SOMs and applied that to finshing EOCS 510 assignment 3 (handed in). Began working on EOSC 471 mini-project 2 in lab, where we learned about more about the simplified box model for ocean overturning circulation. Big takeaway right now it that for the same forcing there can be three possible flow regimes! Wowee. In EOSC 510 we learned about the unique behaviour of Rosby waves!"
   ]
  },
  {
   "cell_type": "markdown",
   "metadata": {},
   "source": [
    "## Friday, October 30\n",
    "Began the day with a more formal start to the NSERC application. Requested my official transcripts from UoG and started up my Canadian Common CV. I inquired with Alicia about getting my official transcripts with UBC and she will handle that portion closer to the due date. <br>\n",
    "\n",
    "Meeting with Susan where we mostly spoke about my data analysis project. She informed me not to use the HRDPS data from before 2014. Based on this I will be using just the climate model output and HRDPS from the past five years. Also given the advice to start with just a couple months of data as a proof of concept. Mentionned that I should ask Valentina if wind or sea level pressure would be a better variable to start with. <br>\n",
    "\n",
    "Meeting with Doug about actually working with the HRDPS and climate model. He gave the advice to work with xarray for this type of data! Using xarray it should be reasonably simple to cut the datasets down to a usable size (based on time, space, and the variable to be analysed) before trying to do any analysis. Doug also urged me to make a repository and an environment specifically for EOSC510 - sent me code and resources in Slack to work on this. <br>\n",
    "\n",
    "Unrelated to the project but also talked about with Doug was: <br>\n",
    "&emsp;a) Why an extra folder called ipynb_checkpoints was pushed to github when i pushed this logbook file - this is because a metadata folder/file is made automatically when i push tp git. I can make a seperate file explaining what to ignore when i push to git. Doug has sent me a resource on how to do this. <br>\n",
    "&emsp;b) Why it doesn't look like code if i open an ipynd file that i make in jupyter in spyder - jupyter doesn't actauly make python files they make json files with tones of metadata. Some coding softwares will notice this and change it to python code automatically. Check if there is a way to get spider to do this. <br>\n",
    "\n",
    "Met up with Damien to work on assignment 3 - we got about half way and are going to zoom on Sunday evenning to try to get the rest. It was really helpful to work with another human!"
   ]
  },
  {
   "cell_type": "markdown",
   "metadata": {},
   "source": [
    "## Sunday, November 1\n",
    "I found a very good video on youtube to help me better visualise Lagrangian/Stokes drift (relevant to question 1 of assignment 3 in EOSC 512): https://www.youtube.com/watch?v=iPSC4Zt4l50 This allowed me to finish the discussion portion of the Lagrangian drift question. About 80% of the questions for this assignment are now done, Damien and I will ask questions to Rich in class tomorrow and then meet over zoom after class to finish up. <br>\n",
    "\n",
    "Sent emails to Jorg and Jana requesting that they be my references for CGS-M. Began writing my proposal and noted that I need more concrete sources for background information on Lagrangian tracking efficacy and for which biologically relevant factors I will be evaluating. Can I reference a paper that I have access to but has not yet been published? <br>\n",
    "\n",
    "Marked all of the currently handed in reflection 2's for ENVR 400. "
   ]
  },
  {
   "cell_type": "markdown",
   "metadata": {},
   "source": [
    "## Monday, November 2\n",
    "Jorg confirmed that he would be happy to be my reference again! <br>\n",
    "\n",
    "Started the day summarising zooplankton paper I read a while back and by looking more into the papers sent to me by Sam Stevens about Lagrangian tracking. <br>\n",
    "\n",
    "Wrote first draft of objectives and backgroud section of NSERC application. Seems like right now i have two questions that could potentially be answered: <br>\n",
    "1) Looking at the JDF likes its a conduit for transporting biologically important factors between ocean and more productive areas like the SoG <br>\n",
    "2) Looking at the productivity within the JDF itself as impacted by stability/light <br>\n",
    "Will ask Jana tomorrow about this. <br>\n",
    "\n",
    "PO seminar by Nancy Soontiens (old student of Susan's now works at ECCC) who did a presentation on evaluation and characterization  of drift in ocean models. Looks like CIOPs is more accurate than the SalishSeaCast for the JDF. - ask Susan <br>\n",
    "\n",
    "In EOSC 512 we talked about assignment 2 and the midterm. While asking questions about assignment 3 rich realised that he only meant to ask 2 (not 3) questions which makes the assignment much easier. I had a zoom call with Damien after where he expalined the math of question 2 d to be and i exaplined the concept of question 1 c to him. Needed review of trasfering from cartesian to complex plane using the complex conjugate. <br>\n",
    "\n",
    "Set up EOSC510 repo on github - need to run the YAML file that I have already setup in order to actually create the new environemnt that I want to work in. Anaconda was being weird so I will wait to do this when it stops being funky. Setup (succesfully) the .gitignore file for both this repo and my logbook repo. "
   ]
  },
  {
   "cell_type": "markdown",
   "metadata": {},
   "source": [
    "## Tuesday, November 3\n",
    "Finished assignment 3 for EOSC 512 - results for part 2 e are a little odd so I am looking forward to hearing Rich explain that one a bit more. <br>\n",
    "\n",
    "Completed marking the annotated bibliographies (i asked for guidance yesterday from Tara and Michael on Edwards and Trixie's assignemnts) and completed marking the relfections that were handed in today. <br>\n",
    "\n",
    "Introduction to neural networks in EOSC 510 - very interesting and I think perfect for my statitical downscaling. Shortly after this class I wrote and handed in the weekly quiz for this class (this week on NN). <br>\n",
    "\n",
    "Meeting with Susan was insightful. She encouraged me to pursue the option of looking at the JDF as a conduit because taht will give me more of a chance to work with Langrangian tracking. Can look at carbon and nitrite at the entrace and exit of the strait in order to discuss its movement and the potential impact of this on the biology of the Salish Sea. The section option could be added on to bring this to a 'PhD level' paper. She noted that although there may be a ton of productivity in the JDF the transit time of water through it is way too fast to see any significant phytoplankton growth. <br>\n",
    "Based on Nancy Soontiens presentation it would be beneficial to do this analysis in Ariane using both SalishSeaCast output AND CIOPs output and comapre the two. CIOPs will probably be more accurate for west end and SalishSea for east of JDF. <br>"
   ]
  },
  {
   "cell_type": "markdown",
   "metadata": {},
   "source": [
    "## Saturday, November 7\n",
    "*Please note that my parents were visiting between November 2nd and November 7 so I did not do much work on wednesday through friday outside of classes, meetings, and seminars\n",
    "\n",
    "Caught up on EOSC 510. Watched and completed the introductory lab on NN modelling that I missed this thursday within which I learned how to run an ensemble of models with a variable amounts of hidden nodes in order to take the mean result of these models. The resultant model will have better results than most of the models but not the best. <br>\n",
    "Watched videos and completed quiz on feed forward neural network models and nonlinear optimization. Edited assignment 3 to have pca before SOM so that the results would converge. <br>"
   ]
  },
  {
   "cell_type": "markdown",
   "metadata": {},
   "source": [
    "## Sunday. November 8\n",
    "Primarily worked on my NSERC proposal today. I edited the background and objectives section to better reflect the area of focus decisions made with Susan on Tuesday and I wrote the first draft of the aproach section. <br>\n",
    "Scheduled meeting with writing consultation people at the university to go over this draft. <br>\n",
    "\n",
    "Marked late submisions of relfection 2 ENVR 400. "
   ]
  },
  {
   "cell_type": "markdown",
   "metadata": {},
   "source": [
    "## Wednesday, November 11\n",
    "Classes and office hours were cancelled today as it is rememberance day. <br>\n",
    "\n",
    "Worked most of the day on my assignment for EOSC 471 in which I discussed the potential impact of climate change on ocean circulation and ocean mixing and the corresponding impact on phytoplankton productivity. <br>\n",
    "\n",
    "Call with Acacia to go over CCCV together. On this call I was able to finish most of the CCCV but the recognitiion section should be added to and the research funding section needs to be done. Ask Susan whether or not my current funding from UBC needs to be incuded. <br>\n",
    "\n",
    "Marked a couple small assignments for ENVR 400. "
   ]
  },
  {
   "cell_type": "markdown",
   "metadata": {},
   "source": [
    "## Thursday, November 12\n",
    "Completed and handed in EOSC 471 miniproject 3. <br>\n",
    "\n",
    "Added research funding to CCCV, still need to ask how far to go back in CCCV and wether or not to add current research funding to Susan. MUST try to implement more of the edits from susan <br>\n",
    "\n",
    "Worked a litte on EOSC 512 assignment 4 to be more prepared for call with Damien tomorrow> Did question 1 a) and most of 2 a), give question 3 a shot tomorrow in the morning. <br>\n",
    "Learned extent of what we'll need for the assignemnt today in class. Finished stratified ocean section will move onto instability next week. <br>\n",
    "\n",
    "In EOSC 510 learned how to model neural networks for seperate PCs (make seperate MLR model for each the PCs of the relevant modes so that the output instead falsely a function of the PCs dependance on eachother when they are by definition uncorelated). Reconstruct the data using the ensemble mean as the k PCs. I think it makes more sense for my project to use one MLR with all PCs as i care about their relation to eachother. Take inspiration from how this lab models a more detailed larger area from jsut 10 pixels. "
   ]
  },
  {
   "cell_type": "markdown",
   "metadata": {},
   "source": [
    "## Friday, November 13\n",
    "Call with Tara and Daphnee to make sure that we are marking the proposals equaly harshly. <br>\n",
    "\n",
    "Edited my proposal draft significance section to make it more clear why this matters. <br>\n",
    "\n",
    "Zoom call with Damien to go over assignment 4. I neded his aid on question 2 (force question with some damped harmonic oscillation math that i need to review) and he needed my aid on question 1 (wave propogation with and without coriolis), both of us dont understand question 3 and need to ask Rich about it. <br>"
   ]
  },
  {
   "cell_type": "markdown",
   "metadata": {},
   "source": [
    "## Saturday, November 14\n",
    "Completed second draft of NSERC proposal and sent it off to Susan. <br>\n",
    "\n",
    "Final writeout (hopefully) of EOSC 512 assignment 4 question 1 & sent to Damien for his reference."
   ]
  },
  {
   "cell_type": "markdown",
   "metadata": {},
   "source": [
    "## Sunday, November 15\n",
    "Worked more on EOSC 512 assignment 4, finished question 2 and started question 3. <br>\n",
    "\n",
    "Began preprocessing of EOSC 510 data for final project + learning how to use xarray. Having some trouble with trimming the can model data as it is in polar rotated coordinates instead of normal lat-lon so i can't simply compare it to the HRDPS lat-lon extent. Asked about this in general slack channel so hopefully will get some guidance tomorrow. <br>\n",
    "Found a good youtube video series with simple xarray commands for data processing: https://www.youtube.com/watch?v=6Ya1HVv4wj0&list=PLTJsu1ustEMbVgE6SivbF17XvWmb3hqoR&index=7"
   ]
  },
  {
   "cell_type": "markdown",
   "metadata": {},
   "source": [
    "## Monday, November 16\n",
    "Got a warning in terminal this morning that the space on my computer is critically low so some functions may not work correctly - so focused on cleaning up computer where I can for about 2 hours. ugh. <br>\n",
    "\n",
    "Worked quite a bit on my EOSC project today and getting more used to working with xarray. Still can;t figure out a way to convert my two datasets into compatible lat and lon. Susan gave me a resource (a project that she did this for) but I don't understand her code well enough to be able to apply it to my situation. I think the problem is an incorrect epsg key for the sourse coordinates. Found a similar problem on Github (with the same model actually but the european extent) and tried to use their solution but it idid not work. Inquired with Doug about having a meeting on this later in the week. <br>Reached out to Everett to have a talk over my plan for the NN to see if he thinks its reasonable/if there's a better way (talking friday morning). <br>Got assigned Nov 26 to present EOSC 510 preliminary results so asked Rich for a two day extention for the mini-project also due that day. <br>\n",
    "\n",
    "Began formating EOSC 512 assignemnt 4. \n"
   ]
  },
  {
   "cell_type": "markdown",
   "metadata": {},
   "source": [
    "## Tuesday, November 17\n",
    "Was able to preprocess most of the HRDPS data up to PCA. Decided to work with both U and V component of the wind as I think those values are more useful, instead of magnitude of wind speed. Spoke to Susan about data set up and she said that for now taking daily mean of the HRDPS data is fine for analysis, but in the future would want to use NN to increase the CanRCM4 to be hourly as well since wind behaviours change quickly. Discuss this in report but dont need to do for this project. Will take PCs of HRDPS and CanRCM4 data (with time as the m variable) as input and output of NN model (i think one NN for all PCs). Call with Doug tomorrow at 4:00 to talk about cooridnate system conversion and xarray in general (ask him why gitignore isn't working for me, git giving me error that i'm trying to upload too large of files even though those are in my ignore file). <br>\n",
    "\n",
    "Completed and handed in EOSC 512 assignment 4. I definitely got question 3c wrong but i genuinely dont think Rich expected anyone to get it right except Damien. Question 3d was neat, saw both Sverdrup and Rossby wave reponse for the same mode number. <br>\n",
    "\n",
    "Call with Susan, we went over taking numerical methods course at Memorial. I honestly don't think its a good idea to try to do this hard of a course remotely again but Susan thinks it will be detrimental to my thesis if i dont get a numerical methods course in before beginning research. Will inquire whether or not i can audit a course at another university so that i get the numnerical methods expereince without the stress level of it being for marks. Then, next year when the UBC numerical methods course is offered in term two I can take it for credit. Hopefully this is a viable solution!!"
   ]
  },
  {
   "cell_type": "markdown",
   "metadata": {},
   "source": [
    "## Wednesday, November 18\n",
    "In EOSC 512 this morning learned about a simplified instability case (Eady problem). Rich mentioned a 1 credit extention on 512 that is offered next semester. Centered around whatever the student wants to learn and can be condensed into 1 month since the content is smaller. Sounds pretty interesting/beneficial. Perhaps add this to suggestion to Susan so you sont seem like a lazy poop who just odesnt want to take the numerical methods course. <br>\n",
    "\n",
    "Worked on EOSC assignment 4 most of the day. I realise that i know how to run an emssemble model to test the efficacy of difference NN configurations but i actually have no idea how to apply this to new input data in order to get an output. This is relevant for both the assignment and my final project, so I should ask in lab tomorrow. <br>\n",
    "\n",
    "Call with Doug to talk about coordinate system conversion. After talking about why is might be complicated for my dataset for a while we decided that i should instead just extract all the values I need instead of trying to continue to work with this within an xarray (since there are data variables for lat and lon why stress over getting the data coordinates into the correct projection just to have it in xarray). Excited about this new plan - to attempt tomorrow. <br>\n",
    "Also went over how to fix my ignore file to stop sending things that i have already cimmited before but have since put in my ignore file. Turns out that this is because, since they have been committed before, that git still tracks them. Must look into equivalent \"forget\" command to stop this tracking. For large files that i accidentaly included in the commit, another step is required because due to their size they will continue to cause problems for commit even when i stop traking them. "
   ]
  },
  {
   "cell_type": "markdown",
   "metadata": {},
   "source": [
    "## Thursday, November 19\n",
    "DFO presentation this morning from Amber on potential for statitical downscalling projects in the future (grant opportunity for it soon). I will be giving a presentation on my project in January at the DFO meeting lol. <br>\n",
    "\n",
    "Learned about tidal harmonic signals and how to analyse them in EOSC 471 lab. <br>\n",
    "\n",
    "Finhsed up to end of PCA analysis for EOSC 510 project and was even able to make some pretty alright visuals! Asked about running NN for projections. According to Valentina that needs to be some within the enssemble model loop link as a seperate saved item (like you thought but need to fix your code). Cole mentionned that there may be a way to save model parameters of the best model adn the weights that arose after training. Something called pickle. He gave me a few lines of code that i should try to work with on assignment 4 before applying to project. "
   ]
  },
  {
   "cell_type": "markdown",
   "metadata": {},
   "source": [
    "## Friday, November 20\n",
    "Really benficial call with Everett about my EOSC 510 project. Suggested that I treat the MLR that we loop though in class be treated more like an architecture selection method instead of an ensemblre creation. Bassically based on how we do it in class that model with the lowest RMSE (not the ensemble) SHOULD continue to have the lowest RMSE (as long as not too much new data is added (if a lot is then check if RMSE hasn't changed that much and if it has then loop thorugh training again). Also showed me how to exrtact each model from this loop instead of having to re-train again every time. Significantly faster now. <br>\n",
    "I can't decide if I should load in more data before or after checking if MLR method works. Perhaps up to a year of data for proof of concept in presentation? <br>\n",
    "\n",
    "Good call with Susan, she is fine with me not taking the course at Memorial. She sent me all of the content for the UBC numerical methods course so that I can work through it next semester and take it (but already have most of the work done) in term 2 of next year. <br>\n",
    "\n",
    "Finished and handed in EOSC 510 assignment 4. "
   ]
  },
  {
   "cell_type": "markdown",
   "metadata": {},
   "source": [
    "## Sunday, November 22\n",
    "Worked mainly on EOSC project. Copied code over and tried to set it up for a year of data instread of just a month. Should hypothetically work right now but is unbelievably slow at the step that the U and V hrdps data are converted from 3D to 2D. This was always the slowest part of the original code too, but now doesn't even finish running overnight. Perhaps bring up in MOAD meeting? <br>\n",
    "Started presentation on the project up to methodology. I think that for the sake of time, since the presensation can be on preliminary data, that i only discuss the results thus far with the 30 days of data and discuss the larger dataset in my report. <br>\n",
    "\n",
    "Wrote plain language abstract + indentification section of NSERC applications. Tomorrow must upload Guelph transcripts and then all my parts will be done. Resend Jana the reference letter invitation. "
   ]
  },
  {
   "cell_type": "markdown",
   "metadata": {},
   "source": [
    "## Monday, November 23\n",
    "Spent a lot of the day woking on my code for the EOSC project. SUggested by the group that to run more data that the best way is to learn how to use Salish to run it - will learn next week for final report results, not for presentation. Wroked on reconstructing data one month into the future as an examble of the dowscaling possible with this methodology. FIgured out a way to do it without needed the eigenvector matrix to be square (it isn't in the case of this run8 because m< n, so instead of mxm matrix it is mxn). <br>\n",
    "Finihsed slides and preliminary script for presentation. I am a little over time right now but have adressed all the questions she wanted answered in the presentation.. so since there are no marks for presentation style or skills perhaps i just speak quickly. <br>\n",
    "\n",
    "Showed my work so far to the group in the MOAD meeting. <br>\n",
    "\n",
    "Went over assignment 3 in EOSC 512. Interesting that langrangian drift causes larger scale water surface to change due to convergence forwards and divergence backwards, we dont know how the individual waves will change in amplitude. "
   ]
  },
  {
   "cell_type": "markdown",
   "metadata": {},
   "source": [
    "## Tuesday, November 24\n",
    "Began working on EOSC 471 project 3.\n",
    "\n",
    "Call with Susan primarily spoke about the data downscaling. Thinks the resutls are promissing thus far jsut need more data. Recomended book for reading over winter break: Descriptive Ocenaography by Lynne Talley.<br>\n",
    "\n",
    "Started to learn about estruarine circulation in EOSC 417 - excited to learn more detailed info next semester in the civil engg course. <br>\n",
    "\n",
    "Consultation meeting with ENVR 400 group went well, they improved their proposal a ton and we chatted about making their presentation 'fun'!"
   ]
  },
  {
   "cell_type": "markdown",
   "metadata": {},
   "source": [
    "## Wednesday, November 25\n",
    "Added picture of HRDPS data from data of reconstruction day to copare results, not looking great. In conclusion now I stress that more data input is required for a more accurate prediction BUT that the similar eigenvactors from the large and small scale data suggest that an accurate reconstruction will be possible. <br>\n",
    "\n",
    "Big day for working on the EOSC 471 projec 3. It got extended to monday but this weekend is supposed to be gorgeous so i want to take advantage of it as much as i can by getting a bit ahead during the week. Completed analysis of three models and formed a hypothesis, tomorrow to plot three more models and discuss whether they confirm or deny the hypothesis. "
   ]
  },
  {
   "cell_type": "markdown",
   "metadata": {},
   "source": [
    "## Thursday, November 26\n",
    "Plotted the three models for EOSC 471 project, tomorrow to form discussion. <br>\n",
    "\n",
    "Practiced and refined EOSC 510 presentation before presenting in the evenning. <br>\n",
    "\n",
    "Very confusing EOSC 512 lecture that i must rewatch before lecture on monday. "
   ]
  },
  {
   "cell_type": "markdown",
   "metadata": {},
   "source": [
    "## Friday, November 27\n",
    "Finished and handed 471 mini-project. <br>\n",
    "\n",
    "Started EOSC 512 assignment 5 before having a meeting with Damien about it. We did not get very far and will work on it this weekend to have questions for him for lecture on Monday. Question 1 is kind of under control, question two seems too easy i thin kwe are missign something, and neither of us understand question 3 at all. <br>\n",
    "\n",
    "Brif meeting with Susan, not much to go over right now but she isexcited to see the results of the CanRCM4 downscalling once i've input more data into it. "
   ]
  },
  {
   "cell_type": "markdown",
   "metadata": {},
   "source": [
    "## Monday, November 30\n",
    "Jana submitted my reference form today so after looking things over (i ended up slicing both my Guelph and UBS transcripts together) i submitted my NSERC application! Very exciting/stressful. <br>\n",
    "\n",
    "Added conda to my salish interface as a first step towards beings able to run jupyter headless. I need to be able to push my eosc510 repo to git before i can pull it onto salish - therefore need to work on forgetting the bif files and pushing succesfully before I can get further with remote jupyter. <br>\n",
    "\n",
    "Worked on EOSC 512 assignment 5, in particular question 1c). My graph of comparing the exact solutuon to the WKB(J) solution looks good at the top and then BDY condition not satisified at -4000, not sure why - will go over tomorrow. <br>\n",
    "\n",
    "Met the new group member this morning in the MOAD meeting, Karyn Suchy. <br>\n",
    "\n",
    "Signed up to host the MOAD happy hour this Friday! <br>"
   ]
  },
  {
   "cell_type": "markdown",
   "metadata": {},
   "source": [
    "## Tuesday, December 1\n",
    "Worked on 'forgetting' larger files for pushing the EOSC 510 repo to git - was unsuccessful. Don't think that I really understand what is being explained in the BFG documentation. Susan suggested that instead of trying to forget files (as this is by design difficult to do in git) that I just make a new repo with only my python file, and push that instead. Keep trying a bit longer to figure out how to forget (ask Doug) and if not do this suggestion as a backup plan. <br>\n",
    "\n",
    "In EOSC 471 we had out first introduction to Lagrangian tracking and did a worksheet on it. Little confused on the final equation taht we came up with - asked Will about it after. <br>\n",
    "\n",
    "Made comment form for the students in ENVR 400 to rate eachother. FIrst day of presentaitons for this class went relatively well - i may be marking too high but we'll see. <br>\n",
    "\n",
    "Spent a lot of time on the EOSC 512 assignment. Figures out that to make the BDY conditions match for both sides i should eb solving the determinant that i used to solve alpha using the bdy conditions - not sub into the original euqation! My solutions overlapped perfectly for the WKB(J) solution and the Bessel solution using the Bessel equations from pg 247 in Ocean Dynamics, whicn means that these euqations also interestingly lead to the same approximation. To get actual excat solution I used a python toolbox :) <br>\n",
    "I don't understand how to solve for the u and v component when t>0, this may be very obvious math but he skipped the step of actually developing these euqations when we did this in class. Hopefully this is explained when we go over the assignment in class. "
   ]
  },
  {
   "cell_type": "markdown",
   "metadata": {},
   "source": [
    "## Wednesday, December 2\n",
    "EOSC 512 class on end of Ekman Layer applications. <br>\n",
    "\n",
    "After troubleshooting for a while just decided to make a whole new eosc 510 repository wihtout memory of large files. Worked fine and now able to push and pull from github. <br>\n",
    "\n",
    "Learned how to run jupyter headless and worked on that for a bit .<br>"
   ]
  },
  {
   "cell_type": "markdown",
   "metadata": {},
   "source": [
    "## Thursday, December 3\n",
    "Unfortunately had a migraine today so did not do much work outside of attending classes. <br>\n",
    "\n",
    "ENVR 400 end of presentations. My groupd was definitely the best! So proud. <br> Had to miss EOSC 512 final lecture for these presentations, will watch and write notes tomorrow. <br>\n",
    "\n",
    "Revew class in EOSC 471. "
   ]
  },
  {
   "cell_type": "markdown",
   "metadata": {},
   "source": [
    "## Friday, December 4\n",
    "Meeting with ENVR 400 team to go over presentations. Michael did not show up so it was decided that I would make a google doc that everyone would input their ratings of each presentation and that way out reviews can be more efficiently compared on monday during out meeting. Made google doc but didn't put my ranking in right away because i'm, the least experienced and don't want to be completely off.. <br>\n",
    "\n",
    "Meeting with Susan, talked about edits to the downscalling project that should be prioritized for the EOSC 510 project ans those that can be added later. Will trim the HRDPS data a bit in the east so that it does not overlap land as much, and will trim the CanRCM4 data such that it covers a larger extent than the HRDPS data so that there is less of a concern about edge effects. <br>\n",
    "\n",
    "Got very frustrated from somthing in EOSC 512 so decided to focus today on the EOSC 510 final prject. Figured out (using pathlib library) how to bring files in that are not in the current directory that i am workig with. Trimmed HRDPS data but still having problems with converting it from 3D to 2D even though I am on Salish now. "
   ]
  },
  {
   "cell_type": "markdown",
   "metadata": {},
   "source": [
    "## Saturday, December 5\n",
    "Wrote notes all day on EOSC 512, got to the end of instabilities. I have a few questions on what i've looked at so far that i should try to build up the courage about and ask about on Piazza. <br>\n",
    "\n",
    "Started running EOSC 512 code at 9:00 am, still not done running at 6:00 pm (getting stuck in the same part), restarted and will try to run overnight. "
   ]
  },
  {
   "cell_type": "markdown",
   "metadata": {},
   "source": [
    "## Sunday, December 6\n",
    "Finished EOSC 512 notes and rewatched a ton of the lectures to get a better understanding. Still need to rewatch December 2 lecture - eluded to a possible question on N & S boundary layer analysis and I have zero clue how to do that. Should redo midterm tomorrow and then go thorugh assignments. <br>\n",
    "\n",
    "EOSC 510 code still did not compile. Messaged Doug about schedulling a meeting to go over the particular section that is not working. <br>\n",
    "\n",
    "A few students asked for extensions on their reflection 3 (due today) granted all requests. "
   ]
  },
  {
   "cell_type": "markdown",
   "metadata": {},
   "source": [
    "## Monday, December 7\n",
    "Sent Karyn python coding resource (https://edabit.com/challenges). <br>\n",
    "\n",
    "Doug helped me fix the runtime problem! Didn't even have to have a meeting! Basically i was trying to do too many things in one step. The area of the code that was converting the data into 2D from 3D was the same point that the full dataset was being input for the first time (not just the metadata which is all that is done when you load xarray) so the program was having to use too much of its memory to rewrite the data AND load it in at the same time in a for loop. Now it runs in about 5 minutes which is absolutely massive. <br>\n",
    "\n",
    "ENVR 400 meeting where we decided as a group on the marks and comments for each presentation.. took two hours.. <br>\n",
    "\n",
    "Went through EOSC 512 midterm and felt fine about it - i don't think that i'm going to do swimmingly on this final BUT I'll do OK in the course and have defnitely learned a lot. <br>\n",
    "\n",
    "Really interesting presentation by Jennifer Jackson from the Hakai Institute (definitely look into this place when/if looking for work after graduation) on the lingering effects of marine heat waves (MHV) on the deep water in Fjords along the British Columbia coast. Deep water here warming twice as quickly as predicted in other studies. <br>\n",
    "\n",
    "Learned a new oceanographic term - *Spice* refers to spatial variations in the temperature and salinity of seawater. Warmer, saltier water is more spicy while cooler, less salty water is more minty."
   ]
  },
  {
   "cell_type": "markdown",
   "metadata": {},
   "source": [
    "## Wednesday, December 16\n",
    "Did not keep up on log during exam period but now I am all done and back in Toronto. <br>\n",
    "\n",
    "Running downscalling proj to have diff MLP NN for each high-resolution PC - hopefully this helps with accuracy of reconstruction for PC1. First try I left computer and for some reason the kernel restarted on the 6th cell - hopefully this does not keep hapenning as I want to be able to run overnight! Might just be using too much data to run during the day while everyone else is on - using 50% of the Salish memory which might make all of Salish to crash. <br>\n",
    "Emailed Valentina about a meeting on the next steps of this project. <br>\n",
    "\n",
    "Can check how much memory is being used by the top users on salish by: <br>\n",
    "&emsp; *ssh salish* <br>\n",
    "&emsp; *top* <br>\n",
    "\n",
    "Really beneficial training session on python packages and environments - basically never install a package outside of an environmnet description (detailed notes in red notebook). Another session on tougher stuff tomorrow. "
   ]
  },
  {
   "cell_type": "markdown",
   "metadata": {},
   "source": [
    "## Thursday, December 15\n",
    "Spoke to Doug and it is fine that my code is taking up a lot of memory, if its gets to above 90% then quit. Will not have a problem with crashing the program since they only need to reboot if they can't figure out what process is using all the memory. In order to check how much memory is being used by all users (in order of memory being used) type *top -c* after you've ssh'd into salish. Then press \"m\" key twice to get progress bar of how much memory total is being used. <br>\n",
    "\n",
    "Ran code to just model PC1 of HRDPS and it didn't look much better.. slightly better match (RMSE down from 0.2 to 0.1 BUT no extremes matched). <br>\n",
    "\n",
    "Python training session 2 with the gang. Got into more nitty gritty of packages and environments. Went over how to do all these steps in Compute Canada setting (they don't like conda). Maybe look into downloading and setting up minicnoda instead of anaconda. Learned how to 'pin' an environemnt:"
   ]
  },
  {
   "cell_type": "markdown",
   "metadata": {},
   "source": [
    "## Monday, January 4\n",
    "I was very bad at keeping up with this during the winter braek even though i still did some work - no sense in trying fruitlessly to cath up now! <br>\n",
    "\n",
    "Brief summary: did correlation, MLS, and variance in winter month comparison of HRDPS and CanRCM4 datasets for 2016,2018,2017,2019 and found that the two datasets correlate SO poorly that it really doesn't make sense to try to downscale using a NN. Worked for a while on making and exporting the preprocessed HRDPS data in another file that would just be run once and never be touched again. Will do the same for PCs. <br>\n",
    "\n",
    "In MOAD meeting today talked about the lack of correlation within the four years that I looked at - was suggested that 2016/2017 winter may have been super weird which is why the model couldn't capture it, but no good reason why the other years look so shit too. SUggested that I look into a larger range of years of data (this will be possible with code that Doug fixed up). <br>\n",
    "\n",
    "Really informative meeting with Doug on what/why he changed to my LoadFiles notebook. Suggested that the removal of the leap day be done after PCA is performed as this dataset will be smaller and easier to work with. Want to load more years of data than we have rn (based on discussion in MOAD meeting) - use the code he has now to make a netcdf file of the HRDPS data with current naming convention (2015 onwards) and a sepratre netcdf for old naming convention (b4 2015) and then concatenate them in the PCA file. <br>\n",
    "Briefly went over how parrallel processing works with dask. Really helpful analogy with clerics counting the number of times a word is used in the bible. The number of clerics (and therefor the number of portions the bible is split into) is the number of processes going on, while the number of words that a cleric can keep track of at once is the number of threads each - this is a simple way of explaining how  computer can 'multitask' using dask. <br>\n",
    "&emsp; NOTE: salish has 16 cores (which looks like 32 when doing what you were (io memory stuff) because there are two threads for each core) so you cannot split your work between more than 32 clerics (less if there is any other work being done on Salish and 16 max if its being used mostly for computing).<br>\n",
    "\n",
    "Some new fun top tricks:<br>\n",
    "&emsp; u -> userID : to see userspecific processes <br>\n",
    "&emsp;&emsp; V : for tree of this users processes <br>\n",
    "&emsp; 1 : to see what all 32 cores are up to<br>\n",
    "&emsp;&emsp; us column = computing memory being used<br>\n",
    "&emsp;&emsp; sy = io memory being used<br>\n",
    "&emsp;&emsp; ni = priority (more posstive is low priority, more negative is high priority, set as 0 automatically)"
   ]
  },
  {
   "cell_type": "code",
   "execution_count": null,
   "metadata": {},
   "outputs": [],
   "source": []
  }
 ],
 "metadata": {
  "kernelspec": {
   "display_name": "Python 3",
   "language": "python",
   "name": "python3"
  },
  "language_info": {
   "codemirror_mode": {
    "name": "ipython",
    "version": 3
   },
   "file_extension": ".py",
   "mimetype": "text/x-python",
   "name": "python",
   "nbconvert_exporter": "python",
   "pygments_lexer": "ipython3",
   "version": "3.7.6"
  }
 },
 "nbformat": 4,
 "nbformat_minor": 4
}
