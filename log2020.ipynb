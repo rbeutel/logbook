{
 "cells": [
  {
   "cell_type": "markdown",
   "metadata": {},
   "source": [
    "# Work Journal 2020"
   ]
  },
  {
   "cell_type": "markdown",
   "metadata": {},
   "source": [
    "## Thurday, October 15\n",
    "Learned how to push from terminal to Github:<br>\n",
    "&emsp;  git add .<br>\n",
    "&emsp;    git commit -m \"Enter commit message here\"<br>\n",
    "&emsp;    git push -u origin master<br>\n",
    "And then files/changes will automatically appear in github, no need to pull once there. \n",
    "An extra hidden folder did appear when i did this though (.ipynb_checkpoints) ask Doug about this.<br>\n",
    "\n",
    "Wrote 471 midterm and sent concerns to Rich about the delivery of remote examinations.<br>\n",
    "\n",
    "MSSA analysis in 510 - learned to code MSSA for more than two datasets.\n"
   ]
  },
  {
   "cell_type": "markdown",
   "metadata": {},
   "source": [
    "## Friday, October 16\n",
    "Plotting party with Ben, Rachael, and Elise. \n",
    "<br>1) Learned how to download files from ocean onto home computer. ex:<br>\n",
    "&emsp; rsync -auvrp --progress rbeutel@chum.eoas.ubc.ca:/home/rmueller/data/MIDOSS/PythonPlay/Oct1620 ./ <br>\n",
    "Where the \"rbeutel..\" part refers to the folder i want to get things from and \"./\" refers to the directory i'm already in. \n",
    "<br>2) Learned to comment in and out whole sections: \"command\" + \"/\" \n",
    "<br>3) Got tips from Elise on how to set consistent foramting for graphics right at the begining of code:<br>\n",
    "&emsp;import matplotlib as mpl<br>&emsp;mpl.rc('xtick', labelsize=8)<br>&emsp;mpl.rc('ytick', labelsize=8)<br>&emsp;mpl.rc('legend', fontsize=8)<br>&emsp;mpl.rc('axes', titlesize=8)<br>&emsp;mpl.rc('axes', labelsize=8)<br>&emsp;mpl.rc('figure', titlesize=8)<br>&emsp;mpl.rc('font', size=8)<br>&emsp;mpl.rc('text', usetex=True)<br>&emsp;mpl.rc('text.latex', preamble = r'''<br>&emsp; \\usepackage{txfonts}<br>&emsp; \\usepackage{lmodern}<br>&emsp; ''')<br>&emsp;mpl.rc('font', family='sans-serif', weight='normal', style='normal')<br>\n",
    "So, using this, I won't need to specify these parameters every time i make a graphic because they are set already!<br>\n",
    "\n",
    "Began ENVR 512 assignment 2 (finished 1? started 2) scheduled meeting with Damien to go over assignment together this weekend."
   ]
  },
  {
   "cell_type": "markdown",
   "metadata": {},
   "source": [
    "## Saturday, October 17\n",
    "Wrote summary on \"Vulnerability of a semienclosed estuarine sea to ocean acidification in contrast with hypoxia\" (Debby Lanson, 2016). <br>\n",
    "\n",
    "Read and noted questions on \"Microzooplankton in the Surface Waters of the Strait of Juan de Fuca\" (NOAA, 1978)"
   ]
  },
  {
   "cell_type": "markdown",
   "metadata": {},
   "source": [
<<<<<<< HEAD
    "## Sunday, October 18\n",
=======
    "## Sunday,October 18\n",
>>>>>>> 3ce8978ac26deadb1aa11bf151391cf15b4c821e
    "Worked on 512 Assignment 2 and video called with Damien to ask questions. \n",
    "Learned how to work with the material derivative."
   ]
  },
  {
   "cell_type": "markdown",
   "metadata": {},
   "source": [
    "## Monday, October 19\n",
    "Worked on 512 assignment (85% done now)."
   ]
  },
  {
   "cell_type": "markdown",
   "metadata": {},
   "source": [
    "## Tuesday, October 20\n",
    "Completed and handed in 512 assignment 2. Found good resource for PDE solving: http://ramanujan.math.trinity.edu/rdaileda/teach/s14/m3357/lectures/lecture_1_21_slides.pdf<br>\n",
    "Attended CGS-M proposal writing workshop. Good idea to schedule meeting with someone in writing resources centre once your first draft is done. <br>"
   ]
  },
  {
   "cell_type": "markdown",
   "metadata": {},
   "source": [
    "## Wednesday, October 21\n",
    "Submitted topic and data sources for EOSC 510 large data analysis project. Specifically asked for feedback on an appropriate timescale for the project - the methods of the project can be used for analysis of a longer dataset in the future BUT for now I probably don't have the computing power on my laptop to do this effectively. <br>\n",
    "\n",
    "Gradded the annotated bibliographies of my three assigned teams in ENVR 400 (2 students yet to hand in). <br>\n",
    "\n",
    "Learned about various clustering methods for data analysis."
   ]
  },
  {
   "cell_type": "markdown",
   "metadata": {},
   "source": [
    "## Thursday, October 22\n",
    "Attended webinar by Dorthe Dahl Jensen on ice cores as part of the EGRIP project. Although this was not the main topic of the talk I found the portion about how they constructed the research areas out of 5m in diameter balloons (similar in construction to those used for large scale beer brewing) extremely interesting. <br>\n",
    "\n",
    "Learned about (in EOSC 510 online recorded lecture) and how to code (later in lab) hierarchical clustering for data analysis. <br>\n",
    "\n",
    "Modelled internal waves in EOSC 417. <br>\n",
    "\n",
    "Introduced to Kelvin waves and wave behaviour along a channel (can be applied to flow down JDF) in EOSC 512. Began midterm notes for 512. \n"
   ]
  },
  {
   "cell_type": "markdown",
   "metadata": {},
   "source": [
    "## Friday, October 23\n",
    "Finished 512 notes up to end of rotational flow section - should be able to start and finish waves tomorrow. <br>\n",
    "\n",
    "Meeting with Susan where we discussed some other options for my project. <br>&emsp;1) using wave tracer data collected from St. Lawrence check/improve upon NEMO algorithms now that we have more data. <br>&emsp;2) Working with connection of Susan's at ECCC (JP - worked originally in MEOPAR, worked on NEP 3.6 model, and now works in ECCC science) on Ekman tranport of surface particles in Riop (which is one step up from NEP 3.6). This would potentially involve a coop at ECCC. <br>\n",
    "\n",
    "Meeting with undergraduate biology student (Sarah Luo) who is considering switching to Environmental Engineering about the different streams and job opportunities in that field. <br>\n",
    "\n",
    "Completed marking of ENVR 400 annotated bibliographies. "
   ]
  },
  {
   "cell_type": "markdown",
   "metadata": {},
   "source": [
    "## Saturday, October 24\n",
    "Watched EOAS 510 videos on Self organizing maps (SOM) and perceptrons. Began completing quiz 7, will wait for the Tuesday lecture to finish it as I don't have a great grasp on perceptrons from teh videos alone. "
   ]
  },
  {
   "cell_type": "markdown",
   "metadata": {},
   "source": [
    "## Sunday, October 25\n",
    "Finished EOSC 512 midterm notes. <br>\n",
    "\n",
    "Completed the code portion of assignment 3 for EOSC 510 up to the final question on SOM for which we will have a lab for on Thursday. "
   ]
  },
  {
   "cell_type": "code",
   "execution_count": null,
   "metadata": {},
   "outputs": [],
   "source": []
  }
 ],
 "metadata": {
  "kernelspec": {
   "display_name": "Python 3",
   "language": "python",
   "name": "python3"
  },
  "language_info": {
   "codemirror_mode": {
    "name": "ipython",
    "version": 3
   },
   "file_extension": ".py",
   "mimetype": "text/x-python",
   "name": "python",
   "nbconvert_exporter": "python",
   "pygments_lexer": "ipython3",
   "version": "3.7.6"
  }
 },
 "nbformat": 4,
 "nbformat_minor": 4
}
