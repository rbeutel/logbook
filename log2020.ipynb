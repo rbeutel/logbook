{
 "cells": [
  {
   "cell_type": "markdown",
   "metadata": {},
   "source": [
    "# Work Journal 2020"
   ]
  },
  {
   "cell_type": "markdown",
   "metadata": {},
   "source": [
    "## Thurday, October 15\n",
    "Learned how to push from terminal to Github:<br>\n",
    "&emsp;  git add .<br>\n",
    "&emsp;    git commit -m \"Enter commit message here\"<br>\n",
    "&emsp;    git push -u origin master<br>\n",
    "And then files/changes will automatically appear in github, no need to pull once there. \n",
    "An extra hidden folder did appear when i did this though (.ipynb_checkpoints) ask Doug about this.<br>\n",
    "\n",
    "Wrote 471 midterm and sent concerns to Rich about the delivery of remote examinations.<br>\n",
    "\n",
    "MSSA analysis in 510 - learned to code MSSA for more than two datasets.\n"
   ]
  },
  {
   "cell_type": "markdown",
   "metadata": {},
   "source": [
    "## Friday, October 15\n",
    "Plotting party with Ben, Rachael, and Elise. \n",
    "<br>1) Learned how to download files from ocean onto home computer. ex:<br>\n",
    "&emsp; rsync -auvrp --progress rbeutel@chum.eoas.ubc.ca:/home/rmueller/data/MIDOSS/PythonPlay/Oct1620 ./ <br>\n",
    "Where the \"rbeutel..\" part refers to the folder i want to get things from and \"./\" refers to the directory i'm already in. \n",
    "<br>2) Learned to comment in and out whole sections: \"command\" + \"/\" \n",
    "<br>3) Got tips from Elise on how to set consistent foramting for graphics right at the begining of code:<br>\n",
    "&emsp;import matplotlib as mpl<br>&emsp;mpl.rc('xtick', labelsize=8)<br>&emsp;mpl.rc('ytick', labelsize=8)<br>&emsp;mpl.rc('legend', fontsize=8)<br>&emsp;mpl.rc('axes', titlesize=8)<br>&emsp;mpl.rc('axes', labelsize=8)<br>&emsp;mpl.rc('figure', titlesize=8)<br>&emsp;mpl.rc('font', size=8)<br>&emsp;mpl.rc('text', usetex=True)<br>&emsp;mpl.rc('text.latex', preamble = r'''<br>&emsp; \\usepackage{txfonts}<br>&emsp; \\usepackage{lmodern}<br>&emsp; ''')<br>&emsp;mpl.rc('font', family='sans-serif', weight='normal', style='normal')<br>\n",
    "So, using this, I won't need to specify these parameters every time i make a graphic because they are set already!<br>\n",
    "\n",
    "Began ENVR 512 assignment 2 (finished 1? started 2) scheduled meeting with Damien to go over assignment together this weekend."
   ]
  },
  {
   "cell_type": "markdown",
   "metadata": {},
   "source": [
    "## Saturday, October 16\n",
    "Wrote summary on \"Vulnerability of a semienclosed estuarine sea to ocean acidification in contrast with hypoxia\" (Debby Lanson, 2016). <br>\n",
    "\n",
    "Read and noted questions on \"Microzooplankton in the Surface Waters of the Strait of Juan de Fuca\" (NOAA, 1978)"
   ]
  },
  {
   "cell_type": "markdown",
   "metadata": {},
   "source": [
    "## Sunday,October 17\n",
    "Worked on 512 Assignment 2 and video called with Damien to ask questions. \n",
    "Learned how to work with the material derivative."
   ]
  },
  {
   "cell_type": "code",
   "execution_count": null,
   "metadata": {},
   "outputs": [],
   "source": []
  }
 ],
 "metadata": {
  "kernelspec": {
   "display_name": "Python 3",
   "language": "python",
   "name": "python3"
  },
  "language_info": {
   "codemirror_mode": {
    "name": "ipython",
    "version": 3
   },
   "file_extension": ".py",
   "mimetype": "text/x-python",
   "name": "python",
   "nbconvert_exporter": "python",
   "pygments_lexer": "ipython3",
   "version": "3.7.6"
  }
 },
 "nbformat": 4,
 "nbformat_minor": 4
}
